{
 "cells": [
  {
   "cell_type": "code",
   "execution_count": 212,
   "metadata": {},
   "outputs": [],
   "source": [
    "import pandas as pd\n",
    "import re\n",
    "import sys"
   ]
  },
  {
   "cell_type": "code",
   "execution_count": 213,
   "metadata": {},
   "outputs": [],
   "source": [
    "trump = pd.read_csv(\"data/realDonaldTrump_poll_tweets.csv\")"
   ]
  },
  {
   "cell_type": "code",
   "execution_count": 214,
   "metadata": {
    "scrolled": true
   },
   "outputs": [
    {
     "data": {
      "text/html": [
       "<div>\n",
       "<style scoped>\n",
       "    .dataframe tbody tr th:only-of-type {\n",
       "        vertical-align: middle;\n",
       "    }\n",
       "\n",
       "    .dataframe tbody tr th {\n",
       "        vertical-align: top;\n",
       "    }\n",
       "\n",
       "    .dataframe thead th {\n",
       "        text-align: right;\n",
       "    }\n",
       "</style>\n",
       "<table border=\"1\" class=\"dataframe\">\n",
       "  <thead>\n",
       "    <tr style=\"text-align: right;\">\n",
       "      <th></th>\n",
       "      <th>id</th>\n",
       "      <th>created_at</th>\n",
       "      <th>text</th>\n",
       "    </tr>\n",
       "  </thead>\n",
       "  <tbody>\n",
       "    <tr>\n",
       "      <th>0</th>\n",
       "      <td>7.656299e+17</td>\n",
       "      <td>8/16/2016 19:22:57</td>\n",
       "      <td>It's just a 2-point race, Clinton 38%, Trump 3...</td>\n",
       "    </tr>\n",
       "    <tr>\n",
       "      <th>1</th>\n",
       "      <td>7.587319e+17</td>\n",
       "      <td>7/28/2016 18:32:31</td>\n",
       "      <td>\"@LallyRay: Poll: Donald Trump Sees 17-Point P...</td>\n",
       "    </tr>\n",
       "    <tr>\n",
       "      <th>2</th>\n",
       "      <td>7.583505e+17</td>\n",
       "      <td>7/27/2016 17:16:56</td>\n",
       "      <td>Great new poll - thank you!\\n#MakeAmericaGreat...</td>\n",
       "    </tr>\n",
       "    <tr>\n",
       "      <th>3</th>\n",
       "      <td>7.575775e+17</td>\n",
       "      <td>7/25/2016 14:05:27</td>\n",
       "      <td>Great POLL numbers are coming out all over. Pe...</td>\n",
       "    </tr>\n",
       "    <tr>\n",
       "      <th>4</th>\n",
       "      <td>7.536034e+17</td>\n",
       "      <td>7/14/2016 14:53:46</td>\n",
       "      <td>Another new poll. Thank you for your support! ...</td>\n",
       "    </tr>\n",
       "    <tr>\n",
       "      <th>5</th>\n",
       "      <td>7.535803e+17</td>\n",
       "      <td>7/14/2016 13:21:48</td>\n",
       "      <td>Great new poll- thank you America!\\n#Trump2016...</td>\n",
       "    </tr>\n",
       "    <tr>\n",
       "      <th>6</th>\n",
       "      <td>7.533533e+17</td>\n",
       "      <td>7/13/2016 22:19:48</td>\n",
       "      <td>Despite spending $500k a day on TV ads alone #...</td>\n",
       "    </tr>\n",
       "    <tr>\n",
       "      <th>7</th>\n",
       "      <td>7.526186e+17</td>\n",
       "      <td>7/11/2016 21:40:30</td>\n",
       "      <td>Great poll- Florida! Thank you! https://t.co/4...</td>\n",
       "    </tr>\n",
       "    <tr>\n",
       "      <th>8</th>\n",
       "      <td>7.518893e+17</td>\n",
       "      <td>7/9/2016 21:22:25</td>\n",
       "      <td>New poll - thank you! #Trump2016\\nhttps://t.co...</td>\n",
       "    </tr>\n",
       "    <tr>\n",
       "      <th>9</th>\n",
       "      <td>7.481639e+17</td>\n",
       "      <td>6/29/2016 14:39:13</td>\n",
       "      <td>New Q poll out- we are going to win the whole ...</td>\n",
       "    </tr>\n",
       "  </tbody>\n",
       "</table>\n",
       "</div>"
      ],
      "text/plain": [
       "             id          created_at  \\\n",
       "0  7.656299e+17  8/16/2016 19:22:57   \n",
       "1  7.587319e+17  7/28/2016 18:32:31   \n",
       "2  7.583505e+17  7/27/2016 17:16:56   \n",
       "3  7.575775e+17  7/25/2016 14:05:27   \n",
       "4  7.536034e+17  7/14/2016 14:53:46   \n",
       "5  7.535803e+17  7/14/2016 13:21:48   \n",
       "6  7.533533e+17  7/13/2016 22:19:48   \n",
       "7  7.526186e+17  7/11/2016 21:40:30   \n",
       "8  7.518893e+17   7/9/2016 21:22:25   \n",
       "9  7.481639e+17  6/29/2016 14:39:13   \n",
       "\n",
       "                                                text  \n",
       "0  It's just a 2-point race, Clinton 38%, Trump 3...  \n",
       "1  \"@LallyRay: Poll: Donald Trump Sees 17-Point P...  \n",
       "2  Great new poll - thank you!\\n#MakeAmericaGreat...  \n",
       "3  Great POLL numbers are coming out all over. Pe...  \n",
       "4  Another new poll. Thank you for your support! ...  \n",
       "5  Great new poll- thank you America!\\n#Trump2016...  \n",
       "6  Despite spending $500k a day on TV ads alone #...  \n",
       "7  Great poll- Florida! Thank you! https://t.co/4...  \n",
       "8  New poll - thank you! #Trump2016\\nhttps://t.co...  \n",
       "9  New Q poll out- we are going to win the whole ...  "
      ]
     },
     "execution_count": 214,
     "metadata": {},
     "output_type": "execute_result"
    }
   ],
   "source": [
    "trump.head(10)"
   ]
  },
  {
   "cell_type": "code",
   "execution_count": 215,
   "metadata": {},
   "outputs": [],
   "source": [
    "trump = trump['text']"
   ]
  },
  {
   "cell_type": "code",
   "execution_count": 216,
   "metadata": {},
   "outputs": [
    {
     "data": {
      "text/plain": [
       "0    It's just a 2-point race, Clinton 38%, Trump 3...\n",
       "1    \"@LallyRay: Poll: Donald Trump Sees 17-Point P...\n",
       "2    Great new poll - thank you!\\n#MakeAmericaGreat...\n",
       "3    Great POLL numbers are coming out all over. Pe...\n",
       "4    Another new poll. Thank you for your support! ...\n",
       "5    Great new poll- thank you America!\\n#Trump2016...\n",
       "6    Despite spending $500k a day on TV ads alone #...\n",
       "7    Great poll- Florida! Thank you! https://t.co/4...\n",
       "8    New poll - thank you! #Trump2016\\nhttps://t.co...\n",
       "9    New Q poll out- we are going to win the whole ...\n",
       "Name: text, dtype: object"
      ]
     },
     "execution_count": 216,
     "metadata": {},
     "output_type": "execute_result"
    }
   ],
   "source": [
    "trump.head(10)"
   ]
  },
  {
   "cell_type": "code",
   "execution_count": 217,
   "metadata": {},
   "outputs": [],
   "source": [
    "for i in range(len(trump)):\n",
    "    trump[i] = ' '.join(re.sub(\"(@[A-Za-z0-9]+)|([^0-9A-Za-z \\t])|(\\w+:\\/\\/\\S+)|(RT)|(htt)\",\" \",trump[i]).split())"
   ]
  },
  {
   "cell_type": "code",
   "execution_count": 218,
   "metadata": {},
   "outputs": [
    {
     "data": {
      "text/plain": [
       "0         It s just a 2 point race Clinton 38 Trump 36\n",
       "1    Poll Donald Trump Sees 17 Point Positive Swing...\n",
       "2       Great new poll thank you MakeAmericaGreatAgain\n",
       "3    Great POLL numbers are coming out all over Peo...\n",
       "4    Another new poll Thank you for your support Jo...\n",
       "5    Great new poll thank you America Trump2016 ImW...\n",
       "6    Despite spending 500k a day on TV ads alone Cr...\n",
       "7                         Great poll Florida Thank you\n",
       "8                         New poll thank you Trump2016\n",
       "9    New Q poll out we are going to win the whole d...\n",
       "Name: text, dtype: object"
      ]
     },
     "execution_count": 218,
     "metadata": {},
     "output_type": "execute_result"
    }
   ],
   "source": [
    "trump.head(10)"
   ]
  },
  {
   "cell_type": "code",
   "execution_count": 219,
   "metadata": {},
   "outputs": [],
   "source": [
    "#no_RT = [x.strip('RT') for x in trump]"
   ]
  },
  {
   "cell_type": "code",
   "execution_count": 220,
   "metadata": {},
   "outputs": [],
   "source": [
    "text = \" \"\n",
    "seq_length = \"|\" * 10"
   ]
  },
  {
   "cell_type": "code",
   "execution_count": 221,
   "metadata": {},
   "outputs": [],
   "source": [
    "for i in range(len(trump)):\n",
    "    text = str(text + trump[i] + seq_length)"
   ]
  },
  {
   "cell_type": "code",
   "execution_count": 222,
   "metadata": {},
   "outputs": [
    {
     "data": {
      "text/plain": [
       "' It s just a 2 point race Clinton 38 Trump 36||||||||||Poll Donald Trump Sees 17 Point Positive Swing in Two Weeks Breitbart Great||||||||||Great new poll thank you MakeAmericaGreatAgain||||||||||Great POLL numbers are coming out all over People don t want another four years of Obama and Crooked Hillary would be even worse MAGA||||||||||Another new poll Thank you for your support Join the MOVEMENT today ImWithYou||||||||||Great new poll thank you America Trump2016 ImWithYou||||||||||Despite spending 500k a day on TV ads alone CrookedHillary falls flat in nationwide Having ZERO impact Sad||||||||||Great poll Florida Thank you||||||||||New poll thank you Trump2016||||||||||New Q poll out we are going to win the whole deal and MAKE AMERICA GREAT AGAIN Trump2016||||||||||The dirty poll done by is a disgrace Even they admit that many more Democrats were polled Other polls were good||||||||||Hillary Clinton is not a change agent just the same old status quo She is spending a fortune I am spending very little Close in polls||||||||||The poll sample is heavy on Democrats Very dishonest why would they do that Other polls good||||||||||So many great things happening new poll numbers looking good News conference at 11 00 A M today Trump Tower||||||||||Poll data shows that does by far the best in holding onto his Senate seat in Florida Important to keep the MAJORITY Run Marco||||||||||BREAKING POLL Trump Gains 11 Points on Clinton Since March gt Now Leads Crooked Hillary 46 44 vi||||||||||Great new poll thank you MakeAmericaGreatAgain Trump2016||||||||||Great new poll thank you||||||||||interesting poll results so far and go vote on||||||||||As soon as John Kasich is hit with negative ads he will drop like a rock in the polls against Crooked Hillary Clinton I will win||||||||||Kasich only looks O K in polls against Hillary because nobody views him as a threat and therefore have placed ZERO negative ads against him||||||||||621 I think it s more like 64 VoteTrumpNY MakeAmericaGreatAgain||||||||||New CBS Poll shows defections from Cruz s core supporters amp increased support for Not surprising||||||||||WOW great new poll New York Thank you for your support Trump2016 NewYorkValues||||||||||Cali Poll shows leads among registered Republican women with 44 Thank you||||||||||How come the amp show the new Poll for Hillary vs Bernie but do not show the SAME poll where I am killing Cruz||||||||||Don t believe the Polls they are just another phony hit job on me I will beat Hillary Clinton easily in the General Election||||||||||Realistic Trump Poll Numbers translate to the 70 percentile range in a two man race Gee what happened to that 30 ceiling||||||||||I guess I have reached yet another ceiling 49 7 with four people My highest Reuters poll yet Thank you||||||||||Can t watch Crazy Megyn anymore Talks about me at 43 but never mentions that there are four people in race With two people big amp over||||||||||I hear came out with another one of their phony polls While I am leading they are totally discredited after last S C poll||||||||||Failed presidential candidate Lindsey Graham should respect me I destroyed his run brought him from 7 to 0 when he got out Now nasty||||||||||Why would anyone in Kentucky listen to failed presidential candidate Rand Paul re caucus Made a fool of himself 1 KY his 2nd choice||||||||||poll just hit 49 for Trump Interesting how my numbers have gone so far up since lightweight Marco Rubio has turned nasty Love it||||||||||Michigan GOP poll 2 24 2016 Trump 35 5 Rubio 15 0 Cruz 14 3 Kasich 12 8 Carson 8 3 Wow||||||||||Wow every poll said I won the debate last night Great honor||||||||||he won almost all polls and Mark Halperin gave him an A||||||||||All the online polls have me winning the debate I really enjoyed the evening Not easy but good||||||||||Thank you GOPDebate Polls MakeAmericaGreatAgain||||||||||Great new poll Thank you Texas VoteTrump MakeAmericaGreatAgain||||||||||Ted Cruz is lying again Polls are showing that I do beat Hillary Clinton head to head Check out Poll snd Q Poll||||||||||The polls show that I picked up many Jeb Bush supporters That is how I got to 46 When others drop out I will pick up more Sad but true||||||||||Poll and say that I beat both Hillary and Bernie and I havn t even started on them yet||||||||||Wow great Ohio poll Shows me leading by 5 points beating K||||||||||Thank you Michigan VoteTrumpMI Trump 35 Kasich 17 Cruz 12 Rubio 12 Carson 9 Via ARG||||||||||Great poll Thank you North Carolina VoteTrumpNC on 3 15 Trump 36 Cruz 18 Rubio 18 Carson 10 Kasich 7 Via||||||||||Thank you Illinois Great news VoteTrumpIL on 3 15 Trump 28 Cruz 15 Rubio 14 Kasich 13 Bush 8 Carson 6 Simon Poll SIU||||||||||The failing Wall Street Journal should fire both its pollster and its Editorial Board Seldom has a paper been so wrong Totally biased||||||||||is changing their theme from fair and balanced to unfair and unbalanced But dying is worse Their phony poll is a joke||||||||||New CBS National Poll just out massive lead for Trump The Wall Street Journal NBC Poll is a total joke No wonder WSJ is doing so badly||||||||||I love being in South Carolina We are leading big in all of the State polls Saturday is a BIG day MAKE AMERICA GREAT AGAIN||||||||||The just out USA Today National Poll where I lead by big numbers shows that in a head to head matchup I beat both Hillary and Bernie||||||||||Amazing that while I lead by big numbers in the new Q and and USA Today polls the the press only wants to report on the phony WSJ NBC poll||||||||||Jeb Bush just got contact lenses and got rid of the glasses He wants to look cool but it s far too late 1 in Nevada||||||||||Just out Nevada poll shows Jeb Bush at 1 he should take his dumb mouthpiece and just go home||||||||||New PPP Poll just out Trump up big Cruz Rubio and Bush down The debate results even with a stacked RNC audience were wonderful||||||||||New South Carolina poll from PPP Thank you VoteTrumpSC||||||||||Wow in the new CBS Poll I went way up into the forties Thank you||||||||||Even though every poll Time Drudge etc has me winning the debate by a lot only puts negative people on Biased a total joke||||||||||Hey see how I beat your boy Ted in your own Blaze poll Your endorsement means nothing GOPDebate||||||||||All polls have me winning debate big Drudge TIME etc Dopey Charles Krauthammer still nasty He has zero cred totally dishonest||||||||||We are getting reports from many voters that the Cruz people are back to doing very sleazy and dishonest pushpolls on me We are watching||||||||||The polls are now showing that I am the best to win the GENERAL ELECTION States that are never in play for Repubs will be won by me Great||||||||||Latest UMass Tracking Poll NH GOP Trump 35 1 Rubio 14 1 Cruz 13 1 Jeb 10 2 Kasich 10 2||||||||||Taking a helicopter to New Hampshire boarding now Amazing activity planned New UMASS poll very nice||||||||||Ted Cruz didn t win Iowa he stole it That is why all of the polls were so wrong and why he got far more votes than anticipated Bad||||||||||Trump winning over Latino Republicans poll says New York Post||||||||||Ted Cruz is totally unelectable if he even gets to run born in Canada Will loose big to Hillary Polls show I beat Hillary easily WIN||||||||||Thank you Mitchell FOX2 Michigan Poll finds Trump holds 3 1 lead over closest GOP opponents Trump 47 Clinton 43||||||||||Great Twitter poll and I wasn t even there Thank you GOPDebate||||||||||Good morning America Thank you for all of your support in the latest Drudge poll||||||||||Watching biased Charles a flunky who didn t know that I won every debate in particular the last one Check polls||||||||||Tennessee GOP Poll Trump 32 7 Cruz 16 5 Carson 6 6 Rubio 5 3 Christie 2 4 Jeb 1 6||||||||||new WSJ poll shows pulling ahead of in Iowa Great||||||||||hits new heights in national poll at 41||||||||||Donald Trump retains national lead in new ABC News WaPo poll with 37||||||||||amp leading POLLS w one week until IowaCaucus MORE on the 2016 elections TONIGHT on 7PM||||||||||Cruz going down fast in recent polls dropping like a rock Lies never work||||||||||Ted Cruz is a nervous wreck He is making reckless charges not caring for the truth His poll s are way down||||||||||IPSOS REUTERS POLL Thank you Trump2016 MakeAmericaGreatAgain||||||||||Fox News Poll Thank you New Hampshire FITN Trump2016||||||||||New Fox News Poll Thank you Iowa Trump2016 IACaucus||||||||||Ted Cruz poll numbers are down big Because he was born in Canada and was until recently a Canadian citizen many believe he cannot run||||||||||Ted Cruz went down big in just released Reuters poll what s going on Is it Goldman Sachs Citi loans or Canada||||||||||Just received the new Fox poll Thank you America Trump2016||||||||||Wow New National Zogby Poll just out TRUMP 45 CRUZ 13 RUBIO 8 Big numbers||||||||||Leaving Nevada now for Iowa Things are looking good great new polls||||||||||New National GOP Zogby Poll MakeAmericaGreatAgain Trump2016||||||||||New Reuters poll Thank you MakeAmericaGreatAgain Trump2016||||||||||After spending 89 million is at the bottom of the barrel in polls He is ashamed to use the name Bush in ads Low energy guy||||||||||Poll Trump has more support in Florida than Rubio and Bush combined||||||||||New CNN WMUR New Hampshire poll just released Thank you FITN Trump2016||||||||||In the just released SC poll I increased my lead by 4 points since last poll by same firm Up by 14 Cruz dropped 3||||||||||On my way to Iowa just received new national poll numbers Thank you MakeAmericaGreatAgain Trump2016||||||||||Wow new polls just out have Trump up and Cruz down he is a nervous wreck||||||||||Ted Cruz is falling in the polls He is nervous People are worried about his place of birth and his failure to report his loans from banks||||||||||WSJ NBC Poll Donald Trump Widens His Lead in Republican Presidential Race Trump2016||||||||||THANK YOU IOWA Highly respected poll just released VoteTrump IowaCaucus||||||||||REPO REUTERS ROLLING TRUMP 39 CRUZ 14 5 BUSH 10 6 CARSON 9 6 RUBIO 6 7 MORE||||||||||Numerous polls have me beating Hillary Clinton In a race with her voter turnout will be the highest in U S history I get most new voters||||||||||Just found out that is spending a fortune on Iowa push polls negative to me Not nice but OK New polls are great||||||||||New CBS poll Trump2016||||||||||Another new Iowa poll just released Thank you IACaucus FITN||||||||||New Iowa poll Thank you MakeAmericaGreatAgain Trump2016||||||||||Heading now for Reno Nevada for a big rally Good poll numberd all over||||||||||In the just out Poll I easily beat Hillary Clinton and I havn t even focused on her yet On our way MAKE AMERICA GREAT AGAIN||||||||||FoxNews Poll THANK YOU MakeAmericaGreatAgain Trump2016||||||||||Key State Florida Poll Trump 32 Beats Rubio Bush Combined||||||||||I am in New Hampshire Just received great news from Reuters poll Thank you for your support||||||||||is a low energy stiff who should focus his special interest money on the many people ahead of him in the polls Has no chance||||||||||Nevada Poll Donald Trump 33 Ted Cruz 20 Marco Rubio 11 via Great news||||||||||People ask why do you tweet and re tweet to millions about when he is so low in the polls Because of his big hit ads on me||||||||||has spent 63 000 000 and is at the bottom of the polls I have spent almost nothing and am at the top WIN||||||||||Great poll thank you Nevada MakeAmericaGreatAgain Trump2016||||||||||New ReutersPoll Thank you America MakeAmericaGreatAgain Trump2016||||||||||Why are flunkies and two of the dumbest people in politics always on the panels and yet Poll Trump 39||||||||||The same people that said I wouldn t run or that I wouldn t lead or do well 1st place and leading by 21 now say I won t beat Hillary||||||||||Remember when failed candidate said that illegals came across the border as AN ACT OF LOVE He s spent 59 million and is at 3||||||||||and very dishonest in not showing the new Poll where I am at 39 21points higher than Cruz Be honest Chuck||||||||||Why isn t using the much newer Poll when discussing how well I am doing instead of the older Q Poll CNN even better||||||||||Wow even lowly Rand Paul has just past in the new Poll Jeb is at 3 I m at 39 Stop throwing your money down the drain||||||||||Jim you fail to mention in your CNN POLL that in the GOP RACE Trump is leading Cruz 39 to 18 Big Detail||||||||||It is hard to believe I am winning by so much when I am treated so badly by the media New Poll amazing in ALL categories 21 pt Lead||||||||||treats me so badly Using old Quinnipiac Poll where I have a much smaller lead than the just out Poll All negative||||||||||Big news just out NEW POLL TRUMP 39 and leads in every major category Likeability way up CRUZ 18 CARSON 10 RUBIO 10||||||||||Wow new Reuters Poll just out Big lead if you want to MAKE AMERICA GREAT AGAIN TRUMP 37 CRUZ 11 This is at the top of Drudge||||||||||The Donald should ve been named Man of the Year He dominates the polls news talk shows amp social media MAGA||||||||||Well I m at 42 and your at 3 You know Jeb you started over here you keep on moving further and further off stage Classic||||||||||This suggests that online polls are more reliable so Trump is crushing both parties||||||||||Tell this knitwit the ppl want not him or his choice for President Thts why Trump has 40||||||||||today said he didn t want to be the front runner he would rather be where he is now 2 That is the talk of a loser can t win||||||||||Great poll out of Illinois Thank you MakeAmericaGreatAgain Trump2016||||||||||was terrible on Face The Nation today Being at 2 and falling seems to have totally affected his confidence A basket case||||||||||As dominates the latest polls I ll talk to the GOP frontrunner Sunday on||||||||||Thank you America post debate poll with from previous poll VoteTrump2016 MakeAmericaGreatAgain||||||||||NEW POLL Trump s massive lead grows in post debate poll||||||||||Another new post debate poll THANK YOU VoteTrump2016 MakeAmericaGreatAgain||||||||||New Reuters poll thank you MakeAmericaGreatAgain Trump2016||||||||||Bill O Reilly calls Trump and campaign brilliant In first place by 27 points||||||||||Thank you so many people have given me credit for winning the debate last night All polls agree It was fun and interesting||||||||||Highly respected PUBLIC POLICY POLLING PPP just announced that I am number one in IOWA Thank you||||||||||New PPP poll just released in Iowa up 6 points from last poll Leading w 28 Don t worry media won t report it||||||||||I won every debate so far according to all debate polls including REPO and more Too bad dopey lies||||||||||is very bad at math She was totally unable to figure out the difference between me and Cruz in the new Monmouth Poll 41to14||||||||||the most overrated anchor at worked hard to explain away the new Monmouth poll 41 to 14 or 27 pt lead She said 15||||||||||Why isn t anyone using the Iowa Poll with me having a big lead They only want to use the one negative poll 2nd place Dishonest press||||||||||Isn t it amazing that paid a fortune for an Iowa Poll which shows me in first place over Cruz by 13 33 to 20 then doesn t use it||||||||||Wow I just had two very good Iowa polls and a phenomenal just out National Poll from 38 MAKE AMERICA GREAT AGAIN||||||||||Why doesn t use the CNN Iowa poll||||||||||JUST IN Donald Trump hits 41 in new Monmouth national poll his highest national support of the election cycle yet||||||||||New national poll from Monmouth huuge lead Trump leads the pack at 41 Ted Cruz 14 Marco Rubio 10 amp||||||||||BREAKING NEWS surging ahead in GOP race 41 in new Monmouth national poll 27 ahead of nearest riva||||||||||Why doesn t quote the new Iowa Poll where I have a 33 to 20 lead over Ted Cruz and all others Think about it||||||||||TRUMP NEEDS HIS OWN POLL A REAL POLL IN EVERY STATE THESE POLLS ARE SO RIDICULOUS THE MEDIA WILL ONLY GET WORSE FROM HERE||||||||||A very good NBC Wall Street Journal Poll was just released wherein I went up from last month and am in the lead Nice||||||||||TRUMP IS WINNING BY SO MUCH MORE IT S NEAR 60 NATIONALLY THEY ARE ALL BIASED POLLS||||||||||I will be interviewed on at 9 00 A M and Fox News Sunday with Chris Wallace at 10 O0 A M CNN Iowa Poll 13 point lead||||||||||New CNN Iowa poll Trump 33 Cruz 20 Everyone else way down Don t trust Des Moines Register poll biased towards Trump||||||||||Thank you We are at 35 in new Reuters poll with 2 coming in at 12 Time to MakeAmericaGreatAgain Trump2016||||||||||Great news in Georgia The just out Landmark poll shows me in first with 43 Wow||||||||||Joe is so off on Iowa which I am leading big in new poll I will win Iowa Also I beat Hillary easily||||||||||Time for the Republican establishment to accept the fact that Trump is not only a viable candidate but lead is real||||||||||Respected Morning Consult poll just out I lead all Republicans and beat Hillary head to head by a wide margin 45 to 40||||||||||Establishment flunky is going crazy with the just released CBS poll that has me way ahead New Fox poll has me beating Hillary||||||||||Wow my poll numbers have just been announced and have gone through the roof||||||||||The last person corrupt Hillary Clinton wants to run against is Donald J Trump I ll end up beating her in every state New Fox Poll Trump||||||||||The failing does not mention the new Poll that has me leading Iowa by a massive 13 points I am at 33 Maggie Haberman sad||||||||||Great poll numbers just coming out of New Hampshire BIG lead for Trump according to||||||||||Great new poll from NH Thank you We need to keep this country safe Trump2016||||||||||A very big poll is coming out at 6 PM in New Hampshire Will be very interested in the results||||||||||A new poll indicates that 68 of my supporters would vote for me if I departed the GOP amp ran as an independent||||||||||I wish the Wall Street Journal had reported the just out Iowa Poll correctly I lead by a wide margin 13 points going up big||||||||||Just won IOWA Poll BIG Trump 33 Cruz 20 Rubio 11 but reported Cruz momentum but nothing about the fact that I easily won||||||||||New Iowa poll finds in the lead by double digits||||||||||Today New Iowa poll finds Trump in the lead by double digits Trump16||||||||||Just released Poll gives me a big 13 point lead in Iowa Change your false story failing Thank you Iowa||||||||||I am especially grateful for the tremendous support I have received from the Evangelicals in the just out Iowa CNN poll Thank you||||||||||I am greatly honored by the results of the CNN poll in Iowa In the end I believe the final results will be even better than that||||||||||Poll numbers will go up even more for after Obama s address||||||||||techpro Donald Trump opens up massive lead in national poll makeamericagreatagain wakeupamerica||||||||||amp Please thank Alisyn Camerota David Chalian and John King for the very professional reporting of the new CNN Poll||||||||||Poll just came out amazing numbers for those who want to MAKE AMERICA GREAT AGAIN TRUMP 36 a 20 point lead over 2nd place Thanks||||||||||The retired neurosurgeon plummets 7 points from last month while Trump solidifies his dominating lead||||||||||his poll numbers jump every time instances like this occur||||||||||I beat Hillary in the new Poll head to head SHE HAS NO STRENGTH OR STAMINA both of which are needed to MAKE AMERICA GREAT AGAIN||||||||||You would think a paper like the Washington Post would be fair and objective For the record almost all polls showed I won all debates||||||||||The Republican establishment out of self preservation is concerned w my high poll s More concerned are Dems I beat Hillary heads up||||||||||Pollster Trend National GOP Average 223 national polls amp 33 pollsters MakeAmericaGreatAgain Trump2016||||||||||Donald Trump Rises to 38 Nationally Ted Cruz Edges into 2nd at 12||||||||||Great new poll numbers Thank you for your support Trump2016||||||||||New national poll released Thank you America Trump2016||||||||||Great poll numbers Thank you MakeAmericaGreatAgain Trump2016||||||||||Great poll numbers all over and beating Hillary Clinton one on one Thank you||||||||||Big new Poll to be announced at 9 00 A M on This Week with I will be interviewed on show||||||||||just announced that I am leading BIG in the new Poll which will be shown on This Week at 9 00 A M I will be on show||||||||||Donald Trump retakes lead in GOP race Ted Cruz makes gains poll via AOL||||||||||extends lead in 11 20 2015 Reuters GOP poll MakeAmericaGreatAgain Trump2016||||||||||John Kasich despite being Governor of Ohio is losing to me in the Ohio polls Pathetic||||||||||New Hampshire Poll Rules GOP Race in New Hampshire Trump 27 Rubio 13 Cruz 11 Bush 9 Carson 9 amp Kasich 7||||||||||Via Politico Trump Extends Lead in New Hampshire Poll||||||||||Great New Poll||||||||||So many great polls like Reuters big leads everywhere New Hampshire really special We will win big and MAKE AMERICA GREAT AGAIN||||||||||Great poll numbers out of Thank you Trump2016 MakeAmericaGreatAgain||||||||||Donald Trump surges in poll among likely Republican voters||||||||||Poll Trump Surges to 42 Nationally Bad News for Marco Rubio Great news||||||||||Great news out of New Hampshire DonaldTrump is pulling away from the pack w 2nd is 17 behind him Trump2016||||||||||REPO REUTERS 5 DAY ROLLING POLL TRUMP 34 CARSON 19 6 RUBIO 9 7 CRUZ 7 7 Thank you a great honor||||||||||From 2 to 27 in Texas quite a jump into first place||||||||||All seven on line polls including Drudge and Time with thousands of respondents said I won the debate said I was so so||||||||||Loved doing the debate won Drudge and all on line polls Amazing evening moderators did an outstanding job||||||||||It shouldn t be ignored and I doubt it will be Carson will drop in polls||||||||||THIS IS WHY THE POLLS ARE WRONG Khan2 I am a lifelong democrat And I will be voting trump democratsfortrump||||||||||Would be nice if learned how to read the polls before writing his next story Probably done on purpose but not good reporting||||||||||GREAT Video Which of these 4 Polls is Suspect Kudos to Trump||||||||||huge lead in Reuters National poll||||||||||Sa Interesting presidential race Carson tries to beat his mom with a hammer and beats Carson in the polls||||||||||A great honor to easily finish FIRST in the poll tabulation even though some of my best polls were not used in determining winner||||||||||Wow You openly LIE about who s ahead in the GOP race Trump is LEADING in 99 of polls Shameful StopTheLies||||||||||Khan2 poll numbers are higher then most think no one is asking Democrats if they are voting Trump||||||||||Wow poll just came out 1 with 26 Almost as importantly I am the strongest on economic issues by far Trump2016||||||||||Isn t it terrible that used a poll not used before I B D when I was down but refuses to use it now when I am up||||||||||The polls are for the news cycle Trump is miles ahead and leaving all others in the dust don t doubt me||||||||||I Trust s polls They are actually really Fair and really balanced on all their news Iowa lead||||||||||BREAKING Latest poll of Florida voters shows enormous lead for Trump He d beat Hillary tcot||||||||||used this poll nobody else did when I was down wonder if she ll use it now that I m up||||||||||Why don t you use new polls instead of the single ancient national poll that was a tiny bit negative Dishonest reporting||||||||||Joe Online poll best to handle economy by far Very true thanks||||||||||Joe Marco only won the debate in the minds of desperate people I won every on line poll even crazy Marco good looking||||||||||Thank you for the nice and true words on Media Buzz with terrific Howie Kurtz Leading New Hampshire 30 to 12||||||||||Trump Leads GOP Carson Stays Strong Rubio 3rd Poll||||||||||MakeAmericaGreatAgain Leading big Nationwide in Reuters poll great||||||||||Thank you James Freeman of the for the very nice words All polls said I won the debate except NBC 3rd Explain to Daniel Henninger||||||||||surges in Post debate Poll Trump puts US 1st and foremost||||||||||The new NBC POLL has me in first place but said I was third in the debate I demand a recount just kidding EVERY other poll had me 1||||||||||Arizona polls for Democrats only say they would prefer Donald Trump over Hillary Clinton 60||||||||||Republican is 28 support for Carson is 23 Poll used by last month||||||||||Votes Everyone under 10 in polls should DROP OUT and support TRUMP Great idea||||||||||Donald Trump Leads Polls in Florida||||||||||Thank you Joe for explaining to and and so many others that I am leading in almost all national amp state polls||||||||||Loved doing the debate last night on Check out all of the polls Everyone agrees that Harwood bombed||||||||||My interview on with had a 40 ratings increase over same Sunday last year 20 over last week||||||||||CNBC poll Trump won GOPDebate MakeAmericaGreatAgain Trump2016||||||||||REPO TRUMP WINS CNBC INSTANT POLL RUBIO SECOND DEVELOPING||||||||||they should just let you be president already you re already leading in the polls||||||||||62 said that won GOP Debate Vote your stand USA Election2016||||||||||Gravis Marketing Poll leading Great||||||||||Trump came out as a clear winner in the polls yet again Next GOPDebate we need max 5 candidates too many on the stage||||||||||The CNBCGOPDebate poll closed with Trump2016 declared the official winner||||||||||showing why he should be our next President Tremendous Debate Winning all the post Debate polls||||||||||Drudge Poll on who won the 3rd GOPDebate Thank you||||||||||Thank you Colorado An honor to win GOPDebate Poll||||||||||The CNBCGOPDebate poll closed with Trump2016 declared the official winner Thank you||||||||||Thanks everyone they all said I won the debate Even won the Poll||||||||||Via Trump still in the lead by a whopping 14 points after fluke survey had put Carson on top||||||||||POLL TOTAL TRUMP 25 22 CARSON 19 78 RUBIO 9 67||||||||||Poll one of the most highly respected was just released Wow wait until the media digests these numbers won t be happy||||||||||I m sure the media will not report the highly respected new national poll that just came out via The Economist 32||||||||||get your polls straight Trump is going to win He is the only one tough enough to run this country||||||||||is trying to drive down poll numbers to install Carson who the Establishment GOP will promptly roll Win Don Win||||||||||Does anybody think that will get their fictitious polling numbers corrected sometime prior to the start of the debate Sad||||||||||continues to report fictious poll numbers Number one based on every statistic is Trump by a wide margin They just can t say it||||||||||Debate night TeamTrump16 is behind you 5000 National Lead TRUMP 35 6 CARSON 21 7||||||||||A lot of people I know are voting Trump in NC none have been polled your lead is bigger than anyone can imagine||||||||||Just out wonderful poll in North Carolina Trump2016 MakeAmericaGreatAgain||||||||||composite national poll MakeAmericaGreatAgain Trump2016 TrumpTrain||||||||||WTG GREAT JOB U R THE BEST PICK OUT OF ALL OF THE CANDIDATES amp OHIO KNOWS THIS 2 THAT IS WHY U R LEADING THERE TOO||||||||||National GOP Presidential Poll via 35 6 Trump2016||||||||||Trump s National Lead Increases to 35 6 Going into the Third GOP Debate it s Trump Carson and Rubio||||||||||New Gravis national poll just out 36 Very nice MakeAmericaGreatAgain||||||||||Why not post the other polls where Trump has 40 percent and Carson is in the teens Strange||||||||||New poll shows and are tied atop the GOP field in Iowa||||||||||Leaving for New Hampshire now Will be doing the there live at 7 00 A M New Poll of New Hampshire Trump 38 Carson 12||||||||||Latest Poll shows Donald Trump winning 70 of Electoral Vote Against Hillary Clinton||||||||||WAY ahead in all the polls that matter TRUMP FOR PRESIDENT||||||||||Great numbers from Poll Also from ABC Washington Post Poll Thank you||||||||||Do you believe that is still playing up the old Iowa poll numbers and no mention of the ABCWashington Post or just out CBS results||||||||||Poll WOW New Hampshire TRUMP 38 CARSON 12 BUSH 8 South Carolina TRUMP 40 CARSON 23 CRUZ 8 Iowa TRUMP 27 CARSON 27||||||||||Watch my interview on Face The Nation now and also the new CBS POLLS which if good for me the media won t report||||||||||Big poll comes out today on Face The Nation at 10 30 on||||||||||A big POLL will be announced this morning on Face The Nation I wonder if I do well if the press will report the results Doubt it||||||||||Trumpachusetts Donald Trump Tops Poll of Bay State Voters AC360 Thanks great news||||||||||Donald Trump Leads in Expectations Shows Strength on Attributes POLL ABC News via||||||||||YouGov National Poll Donald Trump Continues To Dominate Field With All Demographics The Last Refuge||||||||||A New Poll shows will most likely win the GOP Nomination stump4trumpbaby||||||||||New poll shows with a commanding lead 10 points above his closest competition||||||||||New poll finds lean Republicans think most likely to be GOP nominee and has best cha||||||||||New poll by ABC News Washington Post TRUMP 32 CARSON 22 RUBIO 10 BUSH 7 Wow how will the media put a negative spin on this one||||||||||Rasmussen now beats 38 36 nationally||||||||||I will be interviewed on Good Morning America at 7 00 A M will be announcing new poll numbers MAKE AMERICA GREAT AGAIN||||||||||Just out Boston Herald Franklin Pierce Poll N H TRUMP 28 up 10 CARSON 16 BUSH 9 RUBIO 6 CRUZ 5 Press will say they are surging||||||||||Donald Trump still dominating all polls debate cable news gossip everything The GOP nomination is his he rarely loses||||||||||I will be interviewed on Good Morning America tomorrow at 7 00 A M Big new ABC poll coming out I hope I do well||||||||||Trump2016 Trump hits his highest poll number yet Carson Rubio make small gains||||||||||Had my best day ever in the polls one had me at 41 Morning Consult Boston Globe Monmouth NBC and CNN all great More||||||||||Donald Trump tops Franklin Pierce Herald poll at 28 percent in N H||||||||||Lots of great new polls big leads||||||||||Since late July 2015 DJT consistently been the front runner in public opinion polls for the Republican Party nomination||||||||||NEW POLL Trump Blue Collar Support highest since FDR in 1930s WOW||||||||||2008 Quit Jeb Quit Your poll is even lower than your apprentice Rubio||||||||||Donald Trump is so far ahead in two key state polls Thanks Clayton||||||||||Good news for those that want to Make America Great Again I am winning every poll in every STATE and NATIONAL and by big numbers Thanks||||||||||Via Business Insider Donald Trump s Poll Dominance in 2 Key States is Mind Blowing||||||||||A great new poll 33||||||||||Keep up the great work Scottie Polls are best ever||||||||||Did you also hear Megyn say Carson is the front runner according so some polls tied in other polls OUTRIGHT LIE Hatred||||||||||Every poll Time Drudge Slate and others said I won both debates but heard Megyn Kelly had her two puppets say bad stuff I don t watch||||||||||Megyn Kelly has two really dumb puppets Chris Stirewalt amp Marc Threaten a Bushy who do exactly what she says All polls say I won debates||||||||||CNN Poll just out on South Carolina great s||||||||||CNN ORC Poll results just out for Nevada WOW Trump 38 Carson 22 Fiorina 8 Bush 6 Cruz 4||||||||||Should be interesting but too bad the three guys at 1 will be taking up so much time but who knows maybe a star will be born unlikely||||||||||Very honored Trump Is Tops As Clinton Drops In Connecticut Primaries Quinnipiac University Poll Finds||||||||||Sickening attempt I hope jumps another 10 points WakeUpAmerica||||||||||Via Breitbart Riding High in Polls Donald Trump Storms the American South to Overflow Crowds in Georgia||||||||||I m leading big in every poll and we are going to WIN Remember Trump NEVER gives up||||||||||Great Gravis Poll on the great state of NH Also watch on CBS amp mediabuzz both on Sunday||||||||||New Gravis Poll in NH just out Trump 32 Carson 13||||||||||yeah you re really wearing out your welcome Who s dominating the polls YOU Go Trump||||||||||Just arrived in Las Vegas for a packed house speech tomorrow Big poll results today Leading big everywhere MAKE AMERICA GREAT AGAIN||||||||||Just found out I won the Rockingham County Republican Booth Straw Poll at the Deerfield Fair in New Hampshire this past weekend 39 Wow||||||||||is leading in new Quinnipiac poll||||||||||Heading to a packed house in Waterloo Iowa Will celebrate today s great poll numbers together See you soon||||||||||NEW 10 6 15 REUTERS IPSOS POLL DONALD TRUMP CONTINUES TO DOMINATE OVER 37||||||||||Just In 10 6 15 Morning Poll Trump 18 Trump 31 Carson 13 Rubio 10 Bush 7 Fiorina 6||||||||||Pew poll holds commanding lead||||||||||Carl Icahn media is confused they bash trump he rises in polls||||||||||HEADLINES Donald Trump maintains huge lead on opponents as polls go KeepingItReal||||||||||I m leading by big margins in every poll but the press keeps asking would you ever get out They are just troublemakers I m going to win||||||||||Trump s big lead in a new poll and whether Jeb s stuff happens was taken out of context with tonight Thanks H||||||||||REPO Jeb you are falling in polls because conservatives feel that you cannot MakeAmericaGreatAgain||||||||||US Polling Convergence OAN GRAVIS and Reuters CNN HBO||||||||||Polling Convergence OAN GRAVIS and Reuters Show Donald Trump Surging With 34 35 Support via||||||||||Donald Trump Leads by 9 Points in Pew Poll Jeb Bush in Free Fall tcot||||||||||Latest finds at 37 percent approval leading GOP in Wisconsin||||||||||Interesting polls on who won the GOP debate||||||||||Great news Just out the highly respected USA Today Suffolk University Poll Enjoy||||||||||I hope when Rand Paul gets out of the race he is at 1 his supporters come over to me I will do a much better job for them||||||||||Prediction Rand Paul has been driven out of the race by my statements about him he will announce soon 1||||||||||Zogby Poll Trump Widens Lead After GOP Debate||||||||||Trump went way up in my poll when he said he d take money from what US is giving 2 other countries 2 save social security||||||||||Marco Rubio is a member of the Gang Of Eight or very weak on stopping illegal immigration Only changed when poll numbers crashed||||||||||An updated POLL tracker with all polls thru the weekend reveals I maintained a double digit lead at||||||||||New Poll maintains huge lead 31 in Georgia Trump2016||||||||||Dishonest just called to say that none of the polls including Fox NBC CNN Zogby amp Morning Consult matter Serious haters||||||||||the poll said very plainly I came in second in the debate All others Time Drudge Slate etc said I came in 1st||||||||||Wow a really nice lead in New Hampshire an increase since my last poll||||||||||Bloomberg Trump leads GOP field||||||||||New Bloomberg Poll Trump Leads Big||||||||||Headline reads Rubio passes Bush in Florida poll Unfair because Trump destroys them both Trump 31 5 Rubio 19 2 Bush 11 3||||||||||Morning Consult poll Trump Leads||||||||||2016 Republican Primary Morning Consult Poll was just released TRUMP 32 CARSON 12 BUSH 11 FIORINA 6 RUBIO 5 CRUZ 5 Taken after debate||||||||||They attack you more then CNN or MSNBC combined Just a bunch of old Bush appointee Rhinos||||||||||was very negative to me in refusing to to post the great polls that came out today including NBC not good for me||||||||||touts CNN polls instead of their own Of course the NBC one shows him much higher Trump corrects them||||||||||Via HuffPost Pollster 1||||||||||Zogby is respected in the business of polling the media is attempting to silence the message||||||||||Has the media picked up the new Zogby poll that was just put out I doubt it||||||||||New Zogby poll highly respected but the media won t report it because it gives me an even bigger lead||||||||||touts CNN polls instead of their own Of course the NBC one shows him much higher Trump corrects them||||||||||Thanks and for showing us how lopsided you are Use your own poll trainwreck Trump2016||||||||||The refused to use their just in poll numbers where I have a massive lead but instead used numbers where my lead is smaller||||||||||I am attracting the biggest crowds by far and the best poll numbers also by far Much of the media is totally dishonest So sad||||||||||I have been leading big in all polls with two more today and The NBC poll is more than double next at 29 Fiorina has 11||||||||||I will be on at 10 30 will be releasing their new poll numbers Based on the debate results I should do well who knows||||||||||Check out the latest Morning Consult poll released 9 17 2015 remains 1 at 36 Trump2016||||||||||Wow great post debate poll Trump Increases Lead via Breitbart||||||||||Every poll done on debate last night from Drudge to Newsmax to Time Magazine had me winning in a landslide MakeAmericaGreatAgain||||||||||CNNDebate Winning the report poll||||||||||The polls are really looking good 1 everywhere despite all lobbyist amp special interest being spent against me I m turning down millions||||||||||Why is someone like George Pataki who did a terrible job as Governor of N Y and registers ZERO in the polls allowed on the debate stage||||||||||Too many people on stage for debate at 11th with 2 in shouldn t be allowed to participate||||||||||Trump s polls are going to skyrocket after appearance on tonight The young people are going to love him||||||||||Oh wow lightweight Governor who is registered at less than 1 percent in the polls just mocked my hair So original||||||||||Very good news the new Quinnipiac poll just came out I am 1 in Iowa||||||||||I only respond to people that register more than 1 in the polls I never thought he had a chance and I ve been proven right||||||||||A great honor to receive polling numbers like these Record setting African American 25 amp Hispanic numbers 31||||||||||Poll Trump beats Clinton head to head matchup Thank you||||||||||If the presidential election were held today according to this poll Donald Trump would defeat any Dem||||||||||Daily Caller Trump Surpasses Field Flirts With 40 Percent in Alabama Poll||||||||||I am in first place by a lot in all polls tied for first place with Ben Carson in one Iowa poll I thought you knew this thanks||||||||||Tracking 149 polls from 29 pollsters nationwide HuffPost Pollster GOP||||||||||2016 GOP Nomination Polls have me as 1 as seen on with||||||||||Will be interviewed on this morning at 7 00 Thanks for the GREAT poll results||||||||||BIG LEADS FOR THE PEOPLE S POTUS 2016GOPNOMINATION TRUMP2016 MAKEAMERICAGREATAGAI Great||||||||||Every Poll has me winning BIG If you listen to dopey Karl Rove a Trump hater on you would think I m doing poorly||||||||||Yet another weak hit by a candidate with a failing campaign Will Jeb sink as low in the polls as the others who have gone after me||||||||||The just released Public Policy Polling PPP national result is the best yet MAKE AMERICA GREAT AGAIN||||||||||Just out new PPP NATIONAL POLL has me in first place by a wide margin at 29 I wonder why only has not reported this Too bad||||||||||Leading in the Bloomberg Iowa poll Also my favorability numbers went up at a record almost unheard of clip Thank you Iowa||||||||||Loved being with my many friends in Tennessee The crowd and enthusiasm was fantastic I won the straw poll big||||||||||Trump Wins Tea Party Group s Nashville Straw Poll Newsmax GREAT THANK YOU||||||||||Via TRUMP WINS NASHVILLE GRASSROOTS STRAW POLL WITH 52 PERCENT||||||||||BOOM Univision Reluctantly Reports Donald Trump Leading With Latino Republicans via||||||||||HankRearden Trump breaks 40 in OAN Gravis Marketing scientific poll Leads closest competitor by 27 Trump2016 p||||||||||Via CNN Trump now leads in odds to win GOP nomination||||||||||Will be interviewed on the this morning at 7 00 Talking about politics polls and whatever Enjoy||||||||||Heading to Iowa to a packed house Just released polls all first place are amazing Thank you||||||||||Breaking News Public Policy Polling New Hampshire skyrockets to 35 Trump2016 SilentMajority p||||||||||Another good poll result in the great state of SC Trump at 30 Carson at 15 and Bush at 9||||||||||Congrats You just got 4 points in your home state of SC far better than zero nationally You re only 26 pts behind me||||||||||did a terrible job as Governor of New York If he ran again he would have lost in a landslide He and Graham ZERO in polls||||||||||New Reuters Poll just came out and has me at 32 highest number yet The silent majority is back and we will MAKE AMERICA GREAT AGAIN||||||||||Dow dives more than 500 points down 9 from high Be careful||||||||||Another great poll result Thank you||||||||||New CNN ORC poll 1 w 24 favorability rating on the rise while Jeb s declines 60 among women||||||||||Polls indicate that a Trump presidency is now inevitable August||||||||||Joe Poll at the top||||||||||2016 GOP Primary HP tracking 139 polls 28 pollsters 1 Trump 24 1 2 Bush 10 7 3 Carson 8 6 4 Rubio 6 8||||||||||CNN Poll Most Likely to Change Washington DC 44 Ben Carson 9 Ted Cruz 8 Carly Fiorina 7 p||||||||||The polls have been really amazing we are all tired of incompetent politicians and bad deals||||||||||2016 GOP Nominee National Polls via Fox News released today 1 at 25 with 2 at 12 amp 3 at 10||||||||||fox national poll Trump2016 leads by double digits Let s bring inspiration back to MakeAmerica||||||||||Great poll news from Alabama 1 with a lead 2x s higher than 2 Jeb Bush Trump2016||||||||||CNN ORC Poll tops in Iowa||||||||||Mastersof Echelon poll says Trump has 3x the support of rivals Trump 29 Carson 10 Fiorina Rub||||||||||IOWA CNN ORC Poll Overall 1 Economy 1 37 Immigration 1 35 Terrorism 1 21 amp more p||||||||||Our new Iowa poll shows at 22 followed by Carson 14 Walker 9 and Bush is at 5 iacaucus||||||||||IPSOS Poll Conducted for Reuters GOP Debate amp 2016 Ballots 08 10 2015 MakeAmericaGreatAgain Trump2016||||||||||Donald Trump maintains support of 24 of Republican voters in new online Reuters IPSOS poll with 6 7 margin of error Bush tr||||||||||Newsmax poll 65 APOLOGIZE||||||||||Newsmax poll 65 Another debate win||||||||||BREAKS RECORDS in poll history LARGEST share of support Quinnipiac recorded in 2 years||||||||||GOPDebate Winner Drudge 50 187K TIME 46 25K FOXSD 49||||||||||poll winner of last night s debate by wide margin 45 v 12 10||||||||||TIME POLL wins the first Republicanpresidentialdebate by Wild Margin Politics||||||||||is in a greater position w 52 to 12 Report even after amp tried to take him out||||||||||Immnty They tried to take you out amp your poll numbers skyrocketed Voters matter not moderators||||||||||I won every poll of the debate tonight by massive margins REPO amp so where did you find that dumb panel||||||||||NBC says Trump leads with HS grads or less doesn t bother saying Trump leads with college grads too||||||||||Trump is leading with almost every major group of Republican primary voters||||||||||Poll Trump Leads GOP Field Among Hispanics Records 34 Favorability||||||||||Beacham Trump Leads Jeb Slips Rubio Crashes In WSJ NBC News Poll StraightTalk ccot tcot 2A||||||||||New Hampshire poll shows 43 say they feel can BEST handle the economy MakeAmericaGreatAgain||||||||||Today we spoke with Donald Trump about his rising leads in the polls and his strategy for Thursday s debate VIDEO||||||||||DonaldTrump takes massive lead in WSJ NBC poll twice the support of JebBush||||||||||corsi TRUMP SURGES takes double digit lead in GOP presidential race Jerome Corsi||||||||||Good Morning Real Clear Politics Polling Data Average w addition of Bloomberg Poll 1 Trump2016 p||||||||||trump4potus Trump continues to rise in the polls The American People are speaking and speaking loudly 2016election Trump2016||||||||||Trump is surging leading amp breaking EVERY poll because TrumpIsRight GoTrump MakeAmericaGreatAgain Trump2016||||||||||FOX NEWS POLL New high for Donald Trump new low for Hillary Clinton||||||||||New WSJ NBC poll finds almost every GOP candidate losing ground except for Donald Trump||||||||||FOX NEWS POLL RELEASED 1 26 2 Jeb Bush 15 3 Scott Walker 9 MakeAmericaGreatAgain||||||||||POLL TRUMP CRUSHES BUSH AND WALKER COMBINED FAVORABILITY ROCKETS TO 52||||||||||New Poll Shows Donald Trump Blowing Everyone Else Out of the Water||||||||||Surges in NBC News WSJ Poll GOP hopefuls to take center stage this week Who makes top 10 p||||||||||Days before the first Republican Presidential debate surges to the lead among other GOP contenders||||||||||Polls show would be the GOP nominee if the vote was held today||||||||||Congratulations on leading the polls currently and for acquiring the Center Stage Position In The Upcoming Debates||||||||||Polls show would be the GOP nominee if the vote was held today||||||||||'"
      ]
     },
     "execution_count": 222,
     "metadata": {},
     "output_type": "execute_result"
    }
   ],
   "source": [
    "text"
   ]
  },
  {
   "cell_type": "code",
   "execution_count": 224,
   "metadata": {},
   "outputs": [],
   "source": [
    "sys.stdout = open('output/clean-tweet.txt', 'w')\n",
    "print(text)"
   ]
  },
  {
   "cell_type": "code",
   "execution_count": null,
   "metadata": {},
   "outputs": [],
   "source": []
  }
 ],
 "metadata": {
  "kernelspec": {
   "display_name": "generative",
   "language": "python",
   "name": "generative"
  },
  "language_info": {
   "codemirror_mode": {
    "name": "ipython",
    "version": 3
   },
   "file_extension": ".py",
   "mimetype": "text/x-python",
   "name": "python",
   "nbconvert_exporter": "python",
   "pygments_lexer": "ipython3",
   "version": "3.6.10"
  }
 },
 "nbformat": 4,
 "nbformat_minor": 2
}
